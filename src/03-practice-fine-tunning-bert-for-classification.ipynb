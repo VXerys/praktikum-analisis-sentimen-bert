{
 "cells": [
  {
   "cell_type": "code",
   "execution_count": 8,
   "id": "49f89b73",
   "metadata": {},
   "outputs": [],
   "source": [
    "import pandas as pd\n",
    "import numpy as np\n",
    "import torch\n",
    "from torch.utils.data import Dataset, DataLoader\n",
    "from transformers import AutoTokenizer, AutoModelForSequenceClassification\n",
    "from torch.optim import AdamW \n",
    "from sklearn.model_selection import train_test_split\n",
    "from sklearn.metrics import accuracy_score, precision_recall_fscore_support"
   ]
  },
  {
   "cell_type": "code",
   "execution_count": 9,
   "id": "67cd9d04",
   "metadata": {},
   "outputs": [
    {
     "name": "stderr",
     "output_type": "stream",
     "text": [
      "C:\\Users\\user\\AppData\\Local\\Temp\\ipykernel_26464\\1908974295.py:1: DtypeWarning: Columns (8,9) have mixed types. Specify dtype option on import or set low_memory=False.\n",
      "  df = pd.read_csv('../data/scrapped_spotify.csv', encoding='utf-8')\n"
     ]
    }
   ],
   "source": [
    "df = pd.read_csv('../data/scrapped_spotify.csv', encoding='utf-8')\n",
    "df = df.dropna(subset=['content', 'score'])"
   ]
  },
  {
   "cell_type": "code",
   "execution_count": 10,
   "id": "636c34e3",
   "metadata": {},
   "outputs": [],
   "source": [
    "df['sentiment'] = df['score'].apply(lambda x: 0 if x <= 2 else (1 if x == 3 else 2))"
   ]
  },
  {
   "cell_type": "code",
   "execution_count": 11,
   "id": "70f01d32",
   "metadata": {},
   "outputs": [],
   "source": [
    "df_train, df_temp = train_test_split(df, test_size=0.3, stratify=df['sentiment'], random_state=42)\n",
    "df_val, df_test = train_test_split(df_temp, test_size=0.5, stratify=df_temp['sentiment'], random_state=42)"
   ]
  },
  {
   "cell_type": "code",
   "execution_count": 12,
   "id": "f9307a92",
   "metadata": {},
   "outputs": [],
   "source": [
    "class SpotifyDataset(Dataset):\n",
    "    def __init__(self, reviews, targets, tokenizer, max_length=128):\n",
    "        self.reviews = reviews\n",
    "        self.targets = targets\n",
    "        self.tokenizer = tokenizer\n",
    "        self.max_length = max_length\n",
    "    \n",
    "    def __len__(self):\n",
    "        return len(self.reviews)\n",
    "    \n",
    "    def __getitem__(self, idx):\n",
    "        encoding = self.tokenizer(\n",
    "            str(self.reviews[idx]),\n",
    "            max_length=self.max_length,\n",
    "            padding='max_length',\n",
    "            truncation=True,\n",
    "            return_tensors='pt'\n",
    "        )\n",
    "        \n",
    "        return {\n",
    "            'input_ids': encoding['input_ids'].flatten(),\n",
    "            'attention_mask': encoding['attention_mask'].flatten(),\n",
    "            'targets': torch.tensor(self.targets[idx], dtype=torch.long)\n",
    "        }"
   ]
  },
  {
   "cell_type": "code",
   "execution_count": 13,
   "id": "254e08c4",
   "metadata": {},
   "outputs": [],
   "source": [
    "tokenizer = AutoTokenizer.from_pretrained(\"indolem/indobert-base-uncased\")\n",
    "\n",
    "train_dataset = SpotifyDataset(df_train['content'].values, df_train['sentiment'].values, tokenizer)\n",
    "val_dataset = SpotifyDataset(df_val['content'].values, df_val['sentiment'].values, tokenizer)\n",
    "test_dataset = SpotifyDataset(df_test['content'].values, df_test['sentiment'].values, tokenizer)\n"
   ]
  },
  {
   "cell_type": "code",
   "execution_count": 14,
   "id": "678db269",
   "metadata": {},
   "outputs": [],
   "source": [
    "batch_size = 16\n",
    "train_dataloader = DataLoader(train_dataset, batch_size=batch_size, shuffle=True)\n",
    "val_dataloader = DataLoader(val_dataset, batch_size=batch_size)\n",
    "test_dataloader = DataLoader(test_dataset, batch_size=batch_size)"
   ]
  },
  {
   "cell_type": "code",
   "execution_count": 15,
   "id": "61341a6d",
   "metadata": {},
   "outputs": [
    {
     "name": "stderr",
     "output_type": "stream",
     "text": [
      "Some weights of BertForSequenceClassification were not initialized from the model checkpoint at indolem/indobert-base-uncased and are newly initialized: ['classifier.bias', 'classifier.weight']\n",
      "You should probably TRAIN this model on a down-stream task to be able to use it for predictions and inference.\n"
     ]
    }
   ],
   "source": [
    "model = AutoModelForSequenceClassification.from_pretrained(\n",
    "    \"indolem/indobert-base-uncased\", \n",
    "    num_labels=3  # 3 kelas: Negatif, Netral, Positif\n",
    ")"
   ]
  },
  {
   "cell_type": "code",
   "execution_count": 16,
   "id": "c0884cc2",
   "metadata": {},
   "outputs": [],
   "source": [
    "device = torch.device('cuda' if torch.cuda.is_available() else 'cpu')\n",
    "model = model.to(device)\n",
    "optimizer = AdamW(model.parameters(), lr=2e-5)\n",
    "epochs = 3"
   ]
  },
  {
   "cell_type": "code",
   "execution_count": null,
   "id": "75622a05",
   "metadata": {},
   "outputs": [],
   "source": [
    "for epoch in range(epochs):\n",
    "    model.train()\n",
    "    for batch in train_dataloader:\n",
    "        optimizer.zero_grad()\n",
    "        \n",
    "        input_ids = batch['input_ids'].to(device)\n",
    "        attention_mask = batch['attention_mask'].to(device)\n",
    "        targets = batch['targets'].to(device)\n",
    "        \n",
    "        outputs = model(input_ids=input_ids, attention_mask=attention_mask, labels=targets)\n",
    "        loss = outputs.loss\n",
    "        \n",
    "        loss.backward()\n",
    "        optimizer.step()\n",
    "    \n",
    "    # Evaluasi per epoch\n",
    "    model.eval()\n",
    "    val_preds, val_labels = [], []\n",
    "    \n",
    "    with torch.no_grad():\n",
    "        for batch in val_dataloader:\n",
    "            input_ids = batch['input_ids'].to(device)\n",
    "            attention_mask = batch['attention_mask'].to(device)\n",
    "            targets = batch['targets'].to(device)\n",
    "            \n",
    "            outputs = model(input_ids=input_ids, attention_mask=attention_mask)\n",
    "            preds = torch.argmax(outputs.logits, dim=1).cpu().numpy()\n",
    "            \n",
    "            val_preds.extend(preds)\n",
    "            val_labels.extend(targets.cpu().numpy())\n",
    " \n",
    "    accuracy = accuracy_score(val_labels, val_preds)\n",
    "    precision, recall, f1, _ = precision_recall_fscore_support(val_labels, val_preds, average='weighted')\n",
    "    \n",
    "    print(f\"Epoch {epoch+1}/{epochs}\")\n",
    "    print(f\"Validation - Accuracy: {accuracy:.4f}, F1-score: {f1:.4f}\")"
   ]
  },
  {
   "cell_type": "code",
   "execution_count": null,
   "id": "d541b565",
   "metadata": {},
   "outputs": [],
   "source": [
    "model.eval()\n",
    "test_preds, test_labels = [], []\n",
    "\n",
    "with torch.no_grad():\n",
    "    for batch in test_dataloader:\n",
    "        input_ids = batch['input_ids'].to(device)\n",
    "        attention_mask = batch['attention_mask'].to(device)\n",
    "        targets = batch['targets'].to(device)\n",
    "        \n",
    "        outputs = model(input_ids=input_ids, attention_mask=attention_mask)\n",
    "        preds = torch.argmax(outputs.logits, dim=1).cpu().numpy()\n",
    "        \n",
    "        test_preds.extend(preds)\n",
    "        test_labels.extend(targets.cpu().numpy())\n",
    "\n",
    "# Hitung dan tampilkan metrik evaluasi final\n",
    "accuracy = accuracy_score(test_labels, test_preds)\n",
    "precision, recall, f1, _ = precision_recall_fscore_support(test_labels, test_preds, average='weighted')\n",
    "\n",
    "print(\"\\nHasil Evaluasi Final:\")\n",
    "print(f\"Accuracy: {accuracy:.4f}\")\n",
    "print(f\"Precision: {precision:.4f}\")\n",
    "print(f\"Recall: {recall:.4f}\")\n",
    "print(f\"F1-score: {f1:.4f}\")"
   ]
  },
  {
   "cell_type": "code",
   "execution_count": null,
   "id": "1ca1a4f7",
   "metadata": {},
   "outputs": [],
   "source": [
    "torch.save(model.state_dict(), \"indobert_spotify_sentiment.pt\")\n",
    "print(\"Model berhasil disimpan!\")\n",
    "\n",
    "# 11. Fungsi prediksi\n",
    "def predict_sentiment(text):\n",
    "    model.eval()\n",
    "    encoded_text = tokenizer(\n",
    "        text,\n",
    "        max_length=128,\n",
    "        padding='max_length',\n",
    "        truncation=True,\n",
    "        return_tensors='pt'\n",
    "    )\n",
    "    \n",
    "    input_ids = encoded_text['input_ids'].to(device)\n",
    "    attention_mask = encoded_text['attention_mask'].to(device)\n",
    "    \n",
    "    with torch.no_grad():\n",
    "        outputs = model(input_ids=input_ids, attention_mask=attention_mask)\n",
    "    \n",
    "    preds = torch.nn.functional.softmax(outputs.logits, dim=1)\n",
    "    sentiment_id = torch.argmax(preds, dim=1).item()\n",
    "    sentiment = [\"Negatif\", \"Netral\", \"Positif\"][sentiment_id]\n",
    "    \n",
    "    return sentiment, preds[0][sentiment_id].item()\n",
    "\n",
    "# Contoh penggunaan\n",
    "texts = [\n",
    "    \"Aplikasi ini sangat bagus, saya sangat menyukainya\",\n",
    "    \"Spotify sering crash dan boros baterai\",\n",
    "    \"Aplikasi musik ini lumayan bagus tapi masih ada bug\"\n",
    "]\n",
    "\n",
    "for text in texts:\n",
    "    sentiment, confidence = predict_sentiment(text)\n",
    "    print(f\"Text: {text}\")\n",
    "    print(f\"Sentimen: {sentiment} (Confidence: {confidence:.4f})\\n\")"
   ]
  }
 ],
 "metadata": {
  "kernelspec": {
   "display_name": "base",
   "language": "python",
   "name": "python3"
  },
  "language_info": {
   "codemirror_mode": {
    "name": "ipython",
    "version": 3
   },
   "file_extension": ".py",
   "mimetype": "text/x-python",
   "name": "python",
   "nbconvert_exporter": "python",
   "pygments_lexer": "ipython3",
   "version": "3.11.7"
  }
 },
 "nbformat": 4,
 "nbformat_minor": 5
}
